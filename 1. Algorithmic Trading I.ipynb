{
 "cells": [
  {
   "cell_type": "markdown",
   "id": "4d17cb5c",
   "metadata": {},
   "source": [
    "## Librerias"
   ]
  },
  {
   "cell_type": "code",
   "execution_count": 1,
   "id": "cef3d629",
   "metadata": {},
   "outputs": [],
   "source": [
    "import pandas as pd\n",
    "import numpy as np\n",
    "import matplotlib.pyplot as plt\n",
    "import seaborn as sns"
   ]
  },
  {
   "cell_type": "code",
   "execution_count": 2,
   "id": "021ca083",
   "metadata": {},
   "outputs": [],
   "source": [
    "import requests"
   ]
  },
  {
   "cell_type": "code",
   "execution_count": 42,
   "id": "87b50a0f",
   "metadata": {},
   "outputs": [],
   "source": [
    "import datetime\n",
    "from datetime import datetime, timedelta"
   ]
  },
  {
   "cell_type": "code",
   "execution_count": 40,
   "id": "b7a91ae6",
   "metadata": {},
   "outputs": [],
   "source": [
    "import pandas_datareader as pdr"
   ]
  },
  {
   "cell_type": "code",
   "execution_count": 29,
   "id": "02d2be29",
   "metadata": {},
   "outputs": [],
   "source": [
    "\n",
    "from pandas_datareader import data\n",
    "from pandas_datareader._utils import RemoteDataError"
   ]
  },
  {
   "cell_type": "markdown",
   "id": "2013f5a8",
   "metadata": {},
   "source": [
    "## Datos"
   ]
  },
  {
   "cell_type": "code",
   "execution_count": 15,
   "id": "ed4a5b31",
   "metadata": {},
   "outputs": [],
   "source": [
    "start_date = (datetime.now()-timedelta(50)).strftime('%y-%m-%d')\n",
    "end_date = datetime.now().strftime('%y-%m-%d')"
   ]
  },
  {
   "cell_type": "code",
   "execution_count": 110,
   "id": "a491a531",
   "metadata": {},
   "outputs": [],
   "source": [
    "start_date = '2018-01-01'\n",
    "end_date = '2021-07-16'"
   ]
  },
  {
   "cell_type": "code",
   "execution_count": 86,
   "id": "fb7ef9d7",
   "metadata": {},
   "outputs": [],
   "source": [
    "stock = 'AMZN'"
   ]
  },
  {
   "cell_type": "code",
   "execution_count": 111,
   "id": "51fd0329",
   "metadata": {},
   "outputs": [],
   "source": [
    "def get_data(ticker):    \n",
    "    try:\n",
    "        stock_data = data.DataReader(ticker, 'yahoo', start_date, end_date)\n",
    "        return stock_data\n",
    "    except:\n",
    "        print(f'No se encontraron datos para: {ticker}')\n"
   ]
  },
  {
   "cell_type": "code",
   "execution_count": 112,
   "id": "c66f2be5",
   "metadata": {},
   "outputs": [
    {
     "data": {
      "text/html": [
       "<div>\n",
       "<style scoped>\n",
       "    .dataframe tbody tr th:only-of-type {\n",
       "        vertical-align: middle;\n",
       "    }\n",
       "\n",
       "    .dataframe tbody tr th {\n",
       "        vertical-align: top;\n",
       "    }\n",
       "\n",
       "    .dataframe thead th {\n",
       "        text-align: right;\n",
       "    }\n",
       "</style>\n",
       "<table border=\"1\" class=\"dataframe\">\n",
       "  <thead>\n",
       "    <tr style=\"text-align: right;\">\n",
       "      <th></th>\n",
       "      <th>High</th>\n",
       "      <th>Low</th>\n",
       "      <th>Open</th>\n",
       "      <th>Close</th>\n",
       "      <th>Volume</th>\n",
       "      <th>Adj Close</th>\n",
       "    </tr>\n",
       "    <tr>\n",
       "      <th>Date</th>\n",
       "      <th></th>\n",
       "      <th></th>\n",
       "      <th></th>\n",
       "      <th></th>\n",
       "      <th></th>\n",
       "      <th></th>\n",
       "    </tr>\n",
       "  </thead>\n",
       "  <tbody>\n",
       "    <tr>\n",
       "      <th>2018-01-02</th>\n",
       "      <td>1190.000000</td>\n",
       "      <td>1170.510010</td>\n",
       "      <td>1172.000000</td>\n",
       "      <td>1189.010010</td>\n",
       "      <td>2694500</td>\n",
       "      <td>1189.010010</td>\n",
       "    </tr>\n",
       "    <tr>\n",
       "      <th>2018-01-03</th>\n",
       "      <td>1205.489990</td>\n",
       "      <td>1188.300049</td>\n",
       "      <td>1188.300049</td>\n",
       "      <td>1204.199951</td>\n",
       "      <td>3108800</td>\n",
       "      <td>1204.199951</td>\n",
       "    </tr>\n",
       "    <tr>\n",
       "      <th>2018-01-04</th>\n",
       "      <td>1215.869995</td>\n",
       "      <td>1204.660034</td>\n",
       "      <td>1205.000000</td>\n",
       "      <td>1209.589966</td>\n",
       "      <td>3022100</td>\n",
       "      <td>1209.589966</td>\n",
       "    </tr>\n",
       "    <tr>\n",
       "      <th>2018-01-05</th>\n",
       "      <td>1229.140015</td>\n",
       "      <td>1210.000000</td>\n",
       "      <td>1217.510010</td>\n",
       "      <td>1229.140015</td>\n",
       "      <td>3544700</td>\n",
       "      <td>1229.140015</td>\n",
       "    </tr>\n",
       "    <tr>\n",
       "      <th>2018-01-08</th>\n",
       "      <td>1253.079956</td>\n",
       "      <td>1232.030029</td>\n",
       "      <td>1236.000000</td>\n",
       "      <td>1246.869995</td>\n",
       "      <td>4279500</td>\n",
       "      <td>1246.869995</td>\n",
       "    </tr>\n",
       "    <tr>\n",
       "      <th>...</th>\n",
       "      <td>...</td>\n",
       "      <td>...</td>\n",
       "      <td>...</td>\n",
       "      <td>...</td>\n",
       "      <td>...</td>\n",
       "      <td>...</td>\n",
       "    </tr>\n",
       "    <tr>\n",
       "      <th>2021-07-12</th>\n",
       "      <td>3757.290039</td>\n",
       "      <td>3696.790039</td>\n",
       "      <td>3744.000000</td>\n",
       "      <td>3718.550049</td>\n",
       "      <td>2571600</td>\n",
       "      <td>3718.550049</td>\n",
       "    </tr>\n",
       "    <tr>\n",
       "      <th>2021-07-13</th>\n",
       "      <td>3773.080078</td>\n",
       "      <td>3671.320068</td>\n",
       "      <td>3702.100098</td>\n",
       "      <td>3677.360107</td>\n",
       "      <td>3840500</td>\n",
       "      <td>3677.360107</td>\n",
       "    </tr>\n",
       "    <tr>\n",
       "      <th>2021-07-14</th>\n",
       "      <td>3717.659912</td>\n",
       "      <td>3660.830078</td>\n",
       "      <td>3708.850098</td>\n",
       "      <td>3681.679932</td>\n",
       "      <td>3296600</td>\n",
       "      <td>3681.679932</td>\n",
       "    </tr>\n",
       "    <tr>\n",
       "      <th>2021-07-15</th>\n",
       "      <td>3695.399902</td>\n",
       "      <td>3620.919922</td>\n",
       "      <td>3694.199951</td>\n",
       "      <td>3631.199951</td>\n",
       "      <td>3185300</td>\n",
       "      <td>3631.199951</td>\n",
       "    </tr>\n",
       "    <tr>\n",
       "      <th>2021-07-16</th>\n",
       "      <td>3646.060059</td>\n",
       "      <td>3570.459961</td>\n",
       "      <td>3633.310059</td>\n",
       "      <td>3573.629883</td>\n",
       "      <td>4038400</td>\n",
       "      <td>3573.629883</td>\n",
       "    </tr>\n",
       "  </tbody>\n",
       "</table>\n",
       "<p>891 rows × 6 columns</p>\n",
       "</div>"
      ],
      "text/plain": [
       "                   High          Low         Open        Close   Volume  \\\n",
       "Date                                                                      \n",
       "2018-01-02  1190.000000  1170.510010  1172.000000  1189.010010  2694500   \n",
       "2018-01-03  1205.489990  1188.300049  1188.300049  1204.199951  3108800   \n",
       "2018-01-04  1215.869995  1204.660034  1205.000000  1209.589966  3022100   \n",
       "2018-01-05  1229.140015  1210.000000  1217.510010  1229.140015  3544700   \n",
       "2018-01-08  1253.079956  1232.030029  1236.000000  1246.869995  4279500   \n",
       "...                 ...          ...          ...          ...      ...   \n",
       "2021-07-12  3757.290039  3696.790039  3744.000000  3718.550049  2571600   \n",
       "2021-07-13  3773.080078  3671.320068  3702.100098  3677.360107  3840500   \n",
       "2021-07-14  3717.659912  3660.830078  3708.850098  3681.679932  3296600   \n",
       "2021-07-15  3695.399902  3620.919922  3694.199951  3631.199951  3185300   \n",
       "2021-07-16  3646.060059  3570.459961  3633.310059  3573.629883  4038400   \n",
       "\n",
       "              Adj Close  \n",
       "Date                     \n",
       "2018-01-02  1189.010010  \n",
       "2018-01-03  1204.199951  \n",
       "2018-01-04  1209.589966  \n",
       "2018-01-05  1229.140015  \n",
       "2018-01-08  1246.869995  \n",
       "...                 ...  \n",
       "2021-07-12  3718.550049  \n",
       "2021-07-13  3677.360107  \n",
       "2021-07-14  3681.679932  \n",
       "2021-07-15  3631.199951  \n",
       "2021-07-16  3573.629883  \n",
       "\n",
       "[891 rows x 6 columns]"
      ]
     },
     "execution_count": 112,
     "metadata": {},
     "output_type": "execute_result"
    }
   ],
   "source": [
    "get_data(stock)"
   ]
  },
  {
   "cell_type": "code",
   "execution_count": null,
   "id": "99505c0c",
   "metadata": {},
   "outputs": [],
   "source": []
  },
  {
   "cell_type": "code",
   "execution_count": null,
   "id": "2f050112",
   "metadata": {},
   "outputs": [],
   "source": []
  },
  {
   "cell_type": "code",
   "execution_count": null,
   "id": "5a748229",
   "metadata": {},
   "outputs": [],
   "source": []
  },
  {
   "cell_type": "code",
   "execution_count": null,
   "id": "28238f4e",
   "metadata": {},
   "outputs": [],
   "source": []
  }
 ],
 "metadata": {
  "kernelspec": {
   "display_name": "Python 3",
   "language": "python",
   "name": "python3"
  },
  "language_info": {
   "codemirror_mode": {
    "name": "ipython",
    "version": 3
   },
   "file_extension": ".py",
   "mimetype": "text/x-python",
   "name": "python",
   "nbconvert_exporter": "python",
   "pygments_lexer": "ipython3",
   "version": "3.8.8"
  }
 },
 "nbformat": 4,
 "nbformat_minor": 5
}
